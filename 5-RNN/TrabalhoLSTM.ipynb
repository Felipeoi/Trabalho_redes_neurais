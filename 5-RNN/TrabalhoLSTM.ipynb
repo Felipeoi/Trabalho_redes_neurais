{
 "cells": [
  {
   "cell_type": "markdown",
   "metadata": {},
   "source": [
    "\n",
    "###Redes Recorentes\n",
    "\n",
    "O Mercado Futuro é o ambiente onde você pode ganhar com a alta ou baixa de um determinado ativo, seja ele uma commodity (Milho, Café, Boi Gordo), uma moeda (como o dólar), um Índice (Bovespa, Índice S&P 500) ou mesmo uma taxa de juros. Nele, são negociados contratos futuros.\n",
    "\n",
    "<br><img src=\"grafico.jpeg\"><br>\n",
    "\n",
    "O mini índice é um contrato futuro derivado do Índice Bovespa, ou seja, é um ativo que tem como base o sobe e desce desse índice. Como esse tipo de operação envolve **risco considerável** e **oscilações frequentes no mercado**, ela é indicada apenas para aqueles que se encaixam no perfil de investidor arrojado.\n",
    "\n",
    "Neste trabalho iremos implementar uma RNNs para realizar a predição diária do Mini Índice da Ibovespa.\n",
    "\n",
    "O dataset **\"FuturosMiniBovespa.csv\"** possui informações dispostas em colunas :\n",
    "\n",
    "* **Date**:  Data das operações na bolsa (diária)\n",
    "* **Close**:  Valor de Fechamento do Índice da Ibovespa (no dia)\n",
    "* **Open**:  Valor da Abertura do Índice da Ibovespa (no dia)\n",
    "* **High**:  Valor máximo do Índice da Ibovespa (no dia)\n",
    "* **Low**:  Valor mínimo do Índice da Ibovespa (no dia)\n",
    "* **Vol**:  Volume de contratos negociados (no dia)\n",
    "\n",
    "\n",
    "\n",
    "\n",
    "### Bibliotecas"
   ]
  },
  {
   "cell_type": "code",
   "execution_count": 4,
   "metadata": {},
   "outputs": [],
   "source": [
    "import pandas as pd\n",
    "from keras.models import Sequential\n",
    "from keras.layers import Dense, Dropout, LSTM \n",
    "from keras.callbacks import EarlyStopping, ReduceLROnPlateau, ModelCheckpoint\n",
    "\n",
    "import plotly.graph_objects as go \n",
    "from matplotlib.pylab import rcParams\n",
    "rcParams ['figure.figsize'] = 20,10\n",
    "\n",
    "\n",
    "import numpy as np\n",
    "import matplotlib.pyplot as plt\n",
    "import seaborn as sns\n",
    "%matplotlib inline"
   ]
  },
  {
   "cell_type": "markdown",
   "metadata": {},
   "source": [
    "### Carregando os dados\n",
    "\n",
    "Vamos começar lendo o arquivo FuturosMiniBovespa.csv em um dataframe do pandas, mas antes vamos dar uma olhadinha no gráfico de variação do último mês do índice Ibovespa."
   ]
  },
  {
   "cell_type": "code",
   "execution_count": 5,
   "metadata": {},
   "outputs": [],
   "source": [
    "DataSet=pd.read_csv('Futuros Mini Ibovespa - teste.csv')"
   ]
  },
  {
   "cell_type": "code",
   "execution_count": 7,
   "metadata": {},
   "outputs": [
    {
     "data": {
      "application/vnd.plotly.v1+json": {
       "config": {
        "plotlyServerURL": "https://plot.ly"
       },
       "data": [
        {
         "close": [
          115253,
          117518,
          117499,
          117624,
          118313,
          117670,
          118812,
          119297,
          120295,
          120701,
          121114,
          120934,
          120062,
          119371,
          120530,
          120595,
          119388,
          121053
         ],
         "high": [
          117088,
          117668,
          118213,
          118303,
          118850,
          118643,
          118812,
          119529,
          120871,
          121409,
          121333,
          121974,
          121354,
          120995,
          120815,
          121393,
          121012,
          121276
         ],
         "low": [
          114991,
          115262,
          117176,
          116748,
          117486,
          117336,
          117661,
          118041,
          119298,
          120084,
          120199,
          120682,
          119841,
          119203,
          119372,
          119860,
          119003,
          119392
         ],
         "open": [
          116644,
          115262,
          117519,
          117499,
          117624,
          118313,
          117661,
          118809,
          119298,
          120290,
          120701,
          121116,
          120925,
          120064,
          119372,
          120534,
          120595,
          119392
         ],
         "type": "candlestick",
         "x": [
          "2021-04-01",
          "2021-04-05",
          "2021-04-06",
          "2021-04-07",
          "2021-04-08",
          "2021-04-09",
          "2021-04-12",
          "2021-04-13",
          "2021-04-14",
          "2021-04-15",
          "2021-04-16",
          "2021-04-19",
          "2021-04-20",
          "2021-04-22",
          "2021-04-23",
          "2021-04-26",
          "2021-04-27",
          "2021-04-28"
         ]
        }
       ],
       "layout": {
        "template": {
         "data": {
          "bar": [
           {
            "error_x": {
             "color": "#2a3f5f"
            },
            "error_y": {
             "color": "#2a3f5f"
            },
            "marker": {
             "line": {
              "color": "#E5ECF6",
              "width": 0.5
             },
             "pattern": {
              "fillmode": "overlay",
              "size": 10,
              "solidity": 0.2
             }
            },
            "type": "bar"
           }
          ],
          "barpolar": [
           {
            "marker": {
             "line": {
              "color": "#E5ECF6",
              "width": 0.5
             },
             "pattern": {
              "fillmode": "overlay",
              "size": 10,
              "solidity": 0.2
             }
            },
            "type": "barpolar"
           }
          ],
          "carpet": [
           {
            "aaxis": {
             "endlinecolor": "#2a3f5f",
             "gridcolor": "white",
             "linecolor": "white",
             "minorgridcolor": "white",
             "startlinecolor": "#2a3f5f"
            },
            "baxis": {
             "endlinecolor": "#2a3f5f",
             "gridcolor": "white",
             "linecolor": "white",
             "minorgridcolor": "white",
             "startlinecolor": "#2a3f5f"
            },
            "type": "carpet"
           }
          ],
          "choropleth": [
           {
            "colorbar": {
             "outlinewidth": 0,
             "ticks": ""
            },
            "type": "choropleth"
           }
          ],
          "contour": [
           {
            "colorbar": {
             "outlinewidth": 0,
             "ticks": ""
            },
            "colorscale": [
             [
              0,
              "#0d0887"
             ],
             [
              0.1111111111111111,
              "#46039f"
             ],
             [
              0.2222222222222222,
              "#7201a8"
             ],
             [
              0.3333333333333333,
              "#9c179e"
             ],
             [
              0.4444444444444444,
              "#bd3786"
             ],
             [
              0.5555555555555556,
              "#d8576b"
             ],
             [
              0.6666666666666666,
              "#ed7953"
             ],
             [
              0.7777777777777778,
              "#fb9f3a"
             ],
             [
              0.8888888888888888,
              "#fdca26"
             ],
             [
              1,
              "#f0f921"
             ]
            ],
            "type": "contour"
           }
          ],
          "contourcarpet": [
           {
            "colorbar": {
             "outlinewidth": 0,
             "ticks": ""
            },
            "type": "contourcarpet"
           }
          ],
          "heatmap": [
           {
            "colorbar": {
             "outlinewidth": 0,
             "ticks": ""
            },
            "colorscale": [
             [
              0,
              "#0d0887"
             ],
             [
              0.1111111111111111,
              "#46039f"
             ],
             [
              0.2222222222222222,
              "#7201a8"
             ],
             [
              0.3333333333333333,
              "#9c179e"
             ],
             [
              0.4444444444444444,
              "#bd3786"
             ],
             [
              0.5555555555555556,
              "#d8576b"
             ],
             [
              0.6666666666666666,
              "#ed7953"
             ],
             [
              0.7777777777777778,
              "#fb9f3a"
             ],
             [
              0.8888888888888888,
              "#fdca26"
             ],
             [
              1,
              "#f0f921"
             ]
            ],
            "type": "heatmap"
           }
          ],
          "heatmapgl": [
           {
            "colorbar": {
             "outlinewidth": 0,
             "ticks": ""
            },
            "colorscale": [
             [
              0,
              "#0d0887"
             ],
             [
              0.1111111111111111,
              "#46039f"
             ],
             [
              0.2222222222222222,
              "#7201a8"
             ],
             [
              0.3333333333333333,
              "#9c179e"
             ],
             [
              0.4444444444444444,
              "#bd3786"
             ],
             [
              0.5555555555555556,
              "#d8576b"
             ],
             [
              0.6666666666666666,
              "#ed7953"
             ],
             [
              0.7777777777777778,
              "#fb9f3a"
             ],
             [
              0.8888888888888888,
              "#fdca26"
             ],
             [
              1,
              "#f0f921"
             ]
            ],
            "type": "heatmapgl"
           }
          ],
          "histogram": [
           {
            "marker": {
             "pattern": {
              "fillmode": "overlay",
              "size": 10,
              "solidity": 0.2
             }
            },
            "type": "histogram"
           }
          ],
          "histogram2d": [
           {
            "colorbar": {
             "outlinewidth": 0,
             "ticks": ""
            },
            "colorscale": [
             [
              0,
              "#0d0887"
             ],
             [
              0.1111111111111111,
              "#46039f"
             ],
             [
              0.2222222222222222,
              "#7201a8"
             ],
             [
              0.3333333333333333,
              "#9c179e"
             ],
             [
              0.4444444444444444,
              "#bd3786"
             ],
             [
              0.5555555555555556,
              "#d8576b"
             ],
             [
              0.6666666666666666,
              "#ed7953"
             ],
             [
              0.7777777777777778,
              "#fb9f3a"
             ],
             [
              0.8888888888888888,
              "#fdca26"
             ],
             [
              1,
              "#f0f921"
             ]
            ],
            "type": "histogram2d"
           }
          ],
          "histogram2dcontour": [
           {
            "colorbar": {
             "outlinewidth": 0,
             "ticks": ""
            },
            "colorscale": [
             [
              0,
              "#0d0887"
             ],
             [
              0.1111111111111111,
              "#46039f"
             ],
             [
              0.2222222222222222,
              "#7201a8"
             ],
             [
              0.3333333333333333,
              "#9c179e"
             ],
             [
              0.4444444444444444,
              "#bd3786"
             ],
             [
              0.5555555555555556,
              "#d8576b"
             ],
             [
              0.6666666666666666,
              "#ed7953"
             ],
             [
              0.7777777777777778,
              "#fb9f3a"
             ],
             [
              0.8888888888888888,
              "#fdca26"
             ],
             [
              1,
              "#f0f921"
             ]
            ],
            "type": "histogram2dcontour"
           }
          ],
          "mesh3d": [
           {
            "colorbar": {
             "outlinewidth": 0,
             "ticks": ""
            },
            "type": "mesh3d"
           }
          ],
          "parcoords": [
           {
            "line": {
             "colorbar": {
              "outlinewidth": 0,
              "ticks": ""
             }
            },
            "type": "parcoords"
           }
          ],
          "pie": [
           {
            "automargin": true,
            "type": "pie"
           }
          ],
          "scatter": [
           {
            "marker": {
             "colorbar": {
              "outlinewidth": 0,
              "ticks": ""
             }
            },
            "type": "scatter"
           }
          ],
          "scatter3d": [
           {
            "line": {
             "colorbar": {
              "outlinewidth": 0,
              "ticks": ""
             }
            },
            "marker": {
             "colorbar": {
              "outlinewidth": 0,
              "ticks": ""
             }
            },
            "type": "scatter3d"
           }
          ],
          "scattercarpet": [
           {
            "marker": {
             "colorbar": {
              "outlinewidth": 0,
              "ticks": ""
             }
            },
            "type": "scattercarpet"
           }
          ],
          "scattergeo": [
           {
            "marker": {
             "colorbar": {
              "outlinewidth": 0,
              "ticks": ""
             }
            },
            "type": "scattergeo"
           }
          ],
          "scattergl": [
           {
            "marker": {
             "colorbar": {
              "outlinewidth": 0,
              "ticks": ""
             }
            },
            "type": "scattergl"
           }
          ],
          "scattermapbox": [
           {
            "marker": {
             "colorbar": {
              "outlinewidth": 0,
              "ticks": ""
             }
            },
            "type": "scattermapbox"
           }
          ],
          "scatterpolar": [
           {
            "marker": {
             "colorbar": {
              "outlinewidth": 0,
              "ticks": ""
             }
            },
            "type": "scatterpolar"
           }
          ],
          "scatterpolargl": [
           {
            "marker": {
             "colorbar": {
              "outlinewidth": 0,
              "ticks": ""
             }
            },
            "type": "scatterpolargl"
           }
          ],
          "scatterternary": [
           {
            "marker": {
             "colorbar": {
              "outlinewidth": 0,
              "ticks": ""
             }
            },
            "type": "scatterternary"
           }
          ],
          "surface": [
           {
            "colorbar": {
             "outlinewidth": 0,
             "ticks": ""
            },
            "colorscale": [
             [
              0,
              "#0d0887"
             ],
             [
              0.1111111111111111,
              "#46039f"
             ],
             [
              0.2222222222222222,
              "#7201a8"
             ],
             [
              0.3333333333333333,
              "#9c179e"
             ],
             [
              0.4444444444444444,
              "#bd3786"
             ],
             [
              0.5555555555555556,
              "#d8576b"
             ],
             [
              0.6666666666666666,
              "#ed7953"
             ],
             [
              0.7777777777777778,
              "#fb9f3a"
             ],
             [
              0.8888888888888888,
              "#fdca26"
             ],
             [
              1,
              "#f0f921"
             ]
            ],
            "type": "surface"
           }
          ],
          "table": [
           {
            "cells": {
             "fill": {
              "color": "#EBF0F8"
             },
             "line": {
              "color": "white"
             }
            },
            "header": {
             "fill": {
              "color": "#C8D4E3"
             },
             "line": {
              "color": "white"
             }
            },
            "type": "table"
           }
          ]
         },
         "layout": {
          "annotationdefaults": {
           "arrowcolor": "#2a3f5f",
           "arrowhead": 0,
           "arrowwidth": 1
          },
          "autotypenumbers": "strict",
          "coloraxis": {
           "colorbar": {
            "outlinewidth": 0,
            "ticks": ""
           }
          },
          "colorscale": {
           "diverging": [
            [
             0,
             "#8e0152"
            ],
            [
             0.1,
             "#c51b7d"
            ],
            [
             0.2,
             "#de77ae"
            ],
            [
             0.3,
             "#f1b6da"
            ],
            [
             0.4,
             "#fde0ef"
            ],
            [
             0.5,
             "#f7f7f7"
            ],
            [
             0.6,
             "#e6f5d0"
            ],
            [
             0.7,
             "#b8e186"
            ],
            [
             0.8,
             "#7fbc41"
            ],
            [
             0.9,
             "#4d9221"
            ],
            [
             1,
             "#276419"
            ]
           ],
           "sequential": [
            [
             0,
             "#0d0887"
            ],
            [
             0.1111111111111111,
             "#46039f"
            ],
            [
             0.2222222222222222,
             "#7201a8"
            ],
            [
             0.3333333333333333,
             "#9c179e"
            ],
            [
             0.4444444444444444,
             "#bd3786"
            ],
            [
             0.5555555555555556,
             "#d8576b"
            ],
            [
             0.6666666666666666,
             "#ed7953"
            ],
            [
             0.7777777777777778,
             "#fb9f3a"
            ],
            [
             0.8888888888888888,
             "#fdca26"
            ],
            [
             1,
             "#f0f921"
            ]
           ],
           "sequentialminus": [
            [
             0,
             "#0d0887"
            ],
            [
             0.1111111111111111,
             "#46039f"
            ],
            [
             0.2222222222222222,
             "#7201a8"
            ],
            [
             0.3333333333333333,
             "#9c179e"
            ],
            [
             0.4444444444444444,
             "#bd3786"
            ],
            [
             0.5555555555555556,
             "#d8576b"
            ],
            [
             0.6666666666666666,
             "#ed7953"
            ],
            [
             0.7777777777777778,
             "#fb9f3a"
            ],
            [
             0.8888888888888888,
             "#fdca26"
            ],
            [
             1,
             "#f0f921"
            ]
           ]
          },
          "colorway": [
           "#636efa",
           "#EF553B",
           "#00cc96",
           "#ab63fa",
           "#FFA15A",
           "#19d3f3",
           "#FF6692",
           "#B6E880",
           "#FF97FF",
           "#FECB52"
          ],
          "font": {
           "color": "#2a3f5f"
          },
          "geo": {
           "bgcolor": "white",
           "lakecolor": "white",
           "landcolor": "#E5ECF6",
           "showlakes": true,
           "showland": true,
           "subunitcolor": "white"
          },
          "hoverlabel": {
           "align": "left"
          },
          "hovermode": "closest",
          "mapbox": {
           "style": "light"
          },
          "paper_bgcolor": "white",
          "plot_bgcolor": "#E5ECF6",
          "polar": {
           "angularaxis": {
            "gridcolor": "white",
            "linecolor": "white",
            "ticks": ""
           },
           "bgcolor": "#E5ECF6",
           "radialaxis": {
            "gridcolor": "white",
            "linecolor": "white",
            "ticks": ""
           }
          },
          "scene": {
           "xaxis": {
            "backgroundcolor": "#E5ECF6",
            "gridcolor": "white",
            "gridwidth": 2,
            "linecolor": "white",
            "showbackground": true,
            "ticks": "",
            "zerolinecolor": "white"
           },
           "yaxis": {
            "backgroundcolor": "#E5ECF6",
            "gridcolor": "white",
            "gridwidth": 2,
            "linecolor": "white",
            "showbackground": true,
            "ticks": "",
            "zerolinecolor": "white"
           },
           "zaxis": {
            "backgroundcolor": "#E5ECF6",
            "gridcolor": "white",
            "gridwidth": 2,
            "linecolor": "white",
            "showbackground": true,
            "ticks": "",
            "zerolinecolor": "white"
           }
          },
          "shapedefaults": {
           "line": {
            "color": "#2a3f5f"
           }
          },
          "ternary": {
           "aaxis": {
            "gridcolor": "white",
            "linecolor": "white",
            "ticks": ""
           },
           "baxis": {
            "gridcolor": "white",
            "linecolor": "white",
            "ticks": ""
           },
           "bgcolor": "#E5ECF6",
           "caxis": {
            "gridcolor": "white",
            "linecolor": "white",
            "ticks": ""
           }
          },
          "title": {
           "x": 0.05
          },
          "xaxis": {
           "automargin": true,
           "gridcolor": "white",
           "linecolor": "white",
           "ticks": "",
           "title": {
            "standoff": 15
           },
           "zerolinecolor": "white",
           "zerolinewidth": 2
          },
          "yaxis": {
           "automargin": true,
           "gridcolor": "white",
           "linecolor": "white",
           "ticks": "",
           "title": {
            "standoff": 15
           },
           "zerolinecolor": "white",
           "zerolinewidth": 2
          }
         }
        },
        "xaxis": {
         "rangeslider": {
          "visible": false
         }
        }
       }
      },
      "text/html": [
       "<div>                            <div id=\"07439522-31bd-49d8-92e2-1cdc2da5b99a\" class=\"plotly-graph-div\" style=\"height:525px; width:100%;\"></div>            <script type=\"text/javascript\">                require([\"plotly\"], function(Plotly) {                    window.PLOTLYENV=window.PLOTLYENV || {};                                    if (document.getElementById(\"07439522-31bd-49d8-92e2-1cdc2da5b99a\")) {                    Plotly.newPlot(                        \"07439522-31bd-49d8-92e2-1cdc2da5b99a\",                        [{\"close\":[115253.0,117518.0,117499.0,117624.0,118313.0,117670.0,118812.0,119297.0,120295.0,120701.0,121114.0,120934.0,120062.0,119371.0,120530.0,120595.0,119388.0,121053.0],\"high\":[117088.0,117668.0,118213.0,118303.0,118850.0,118643.0,118812.0,119529.0,120871.0,121409.0,121333.0,121974.0,121354.0,120995.0,120815.0,121393.0,121012.0,121276.0],\"low\":[114991.0,115262.0,117176.0,116748.0,117486.0,117336.0,117661.0,118041.0,119298.0,120084.0,120199.0,120682.0,119841.0,119203.0,119372.0,119860.0,119003.0,119392.0],\"open\":[116644.0,115262.0,117519.0,117499.0,117624.0,118313.0,117661.0,118809.0,119298.0,120290.0,120701.0,121116.0,120925.0,120064.0,119372.0,120534.0,120595.0,119392.0],\"type\":\"candlestick\",\"x\":[\"2021-04-01\",\"2021-04-05\",\"2021-04-06\",\"2021-04-07\",\"2021-04-08\",\"2021-04-09\",\"2021-04-12\",\"2021-04-13\",\"2021-04-14\",\"2021-04-15\",\"2021-04-16\",\"2021-04-19\",\"2021-04-20\",\"2021-04-22\",\"2021-04-23\",\"2021-04-26\",\"2021-04-27\",\"2021-04-28\"]}],                        {\"template\":{\"data\":{\"bar\":[{\"error_x\":{\"color\":\"#2a3f5f\"},\"error_y\":{\"color\":\"#2a3f5f\"},\"marker\":{\"line\":{\"color\":\"#E5ECF6\",\"width\":0.5},\"pattern\":{\"fillmode\":\"overlay\",\"size\":10,\"solidity\":0.2}},\"type\":\"bar\"}],\"barpolar\":[{\"marker\":{\"line\":{\"color\":\"#E5ECF6\",\"width\":0.5},\"pattern\":{\"fillmode\":\"overlay\",\"size\":10,\"solidity\":0.2}},\"type\":\"barpolar\"}],\"carpet\":[{\"aaxis\":{\"endlinecolor\":\"#2a3f5f\",\"gridcolor\":\"white\",\"linecolor\":\"white\",\"minorgridcolor\":\"white\",\"startlinecolor\":\"#2a3f5f\"},\"baxis\":{\"endlinecolor\":\"#2a3f5f\",\"gridcolor\":\"white\",\"linecolor\":\"white\",\"minorgridcolor\":\"white\",\"startlinecolor\":\"#2a3f5f\"},\"type\":\"carpet\"}],\"choropleth\":[{\"colorbar\":{\"outlinewidth\":0,\"ticks\":\"\"},\"type\":\"choropleth\"}],\"contour\":[{\"colorbar\":{\"outlinewidth\":0,\"ticks\":\"\"},\"colorscale\":[[0.0,\"#0d0887\"],[0.1111111111111111,\"#46039f\"],[0.2222222222222222,\"#7201a8\"],[0.3333333333333333,\"#9c179e\"],[0.4444444444444444,\"#bd3786\"],[0.5555555555555556,\"#d8576b\"],[0.6666666666666666,\"#ed7953\"],[0.7777777777777778,\"#fb9f3a\"],[0.8888888888888888,\"#fdca26\"],[1.0,\"#f0f921\"]],\"type\":\"contour\"}],\"contourcarpet\":[{\"colorbar\":{\"outlinewidth\":0,\"ticks\":\"\"},\"type\":\"contourcarpet\"}],\"heatmap\":[{\"colorbar\":{\"outlinewidth\":0,\"ticks\":\"\"},\"colorscale\":[[0.0,\"#0d0887\"],[0.1111111111111111,\"#46039f\"],[0.2222222222222222,\"#7201a8\"],[0.3333333333333333,\"#9c179e\"],[0.4444444444444444,\"#bd3786\"],[0.5555555555555556,\"#d8576b\"],[0.6666666666666666,\"#ed7953\"],[0.7777777777777778,\"#fb9f3a\"],[0.8888888888888888,\"#fdca26\"],[1.0,\"#f0f921\"]],\"type\":\"heatmap\"}],\"heatmapgl\":[{\"colorbar\":{\"outlinewidth\":0,\"ticks\":\"\"},\"colorscale\":[[0.0,\"#0d0887\"],[0.1111111111111111,\"#46039f\"],[0.2222222222222222,\"#7201a8\"],[0.3333333333333333,\"#9c179e\"],[0.4444444444444444,\"#bd3786\"],[0.5555555555555556,\"#d8576b\"],[0.6666666666666666,\"#ed7953\"],[0.7777777777777778,\"#fb9f3a\"],[0.8888888888888888,\"#fdca26\"],[1.0,\"#f0f921\"]],\"type\":\"heatmapgl\"}],\"histogram\":[{\"marker\":{\"pattern\":{\"fillmode\":\"overlay\",\"size\":10,\"solidity\":0.2}},\"type\":\"histogram\"}],\"histogram2d\":[{\"colorbar\":{\"outlinewidth\":0,\"ticks\":\"\"},\"colorscale\":[[0.0,\"#0d0887\"],[0.1111111111111111,\"#46039f\"],[0.2222222222222222,\"#7201a8\"],[0.3333333333333333,\"#9c179e\"],[0.4444444444444444,\"#bd3786\"],[0.5555555555555556,\"#d8576b\"],[0.6666666666666666,\"#ed7953\"],[0.7777777777777778,\"#fb9f3a\"],[0.8888888888888888,\"#fdca26\"],[1.0,\"#f0f921\"]],\"type\":\"histogram2d\"}],\"histogram2dcontour\":[{\"colorbar\":{\"outlinewidth\":0,\"ticks\":\"\"},\"colorscale\":[[0.0,\"#0d0887\"],[0.1111111111111111,\"#46039f\"],[0.2222222222222222,\"#7201a8\"],[0.3333333333333333,\"#9c179e\"],[0.4444444444444444,\"#bd3786\"],[0.5555555555555556,\"#d8576b\"],[0.6666666666666666,\"#ed7953\"],[0.7777777777777778,\"#fb9f3a\"],[0.8888888888888888,\"#fdca26\"],[1.0,\"#f0f921\"]],\"type\":\"histogram2dcontour\"}],\"mesh3d\":[{\"colorbar\":{\"outlinewidth\":0,\"ticks\":\"\"},\"type\":\"mesh3d\"}],\"parcoords\":[{\"line\":{\"colorbar\":{\"outlinewidth\":0,\"ticks\":\"\"}},\"type\":\"parcoords\"}],\"pie\":[{\"automargin\":true,\"type\":\"pie\"}],\"scatter\":[{\"marker\":{\"colorbar\":{\"outlinewidth\":0,\"ticks\":\"\"}},\"type\":\"scatter\"}],\"scatter3d\":[{\"line\":{\"colorbar\":{\"outlinewidth\":0,\"ticks\":\"\"}},\"marker\":{\"colorbar\":{\"outlinewidth\":0,\"ticks\":\"\"}},\"type\":\"scatter3d\"}],\"scattercarpet\":[{\"marker\":{\"colorbar\":{\"outlinewidth\":0,\"ticks\":\"\"}},\"type\":\"scattercarpet\"}],\"scattergeo\":[{\"marker\":{\"colorbar\":{\"outlinewidth\":0,\"ticks\":\"\"}},\"type\":\"scattergeo\"}],\"scattergl\":[{\"marker\":{\"colorbar\":{\"outlinewidth\":0,\"ticks\":\"\"}},\"type\":\"scattergl\"}],\"scattermapbox\":[{\"marker\":{\"colorbar\":{\"outlinewidth\":0,\"ticks\":\"\"}},\"type\":\"scattermapbox\"}],\"scatterpolar\":[{\"marker\":{\"colorbar\":{\"outlinewidth\":0,\"ticks\":\"\"}},\"type\":\"scatterpolar\"}],\"scatterpolargl\":[{\"marker\":{\"colorbar\":{\"outlinewidth\":0,\"ticks\":\"\"}},\"type\":\"scatterpolargl\"}],\"scatterternary\":[{\"marker\":{\"colorbar\":{\"outlinewidth\":0,\"ticks\":\"\"}},\"type\":\"scatterternary\"}],\"surface\":[{\"colorbar\":{\"outlinewidth\":0,\"ticks\":\"\"},\"colorscale\":[[0.0,\"#0d0887\"],[0.1111111111111111,\"#46039f\"],[0.2222222222222222,\"#7201a8\"],[0.3333333333333333,\"#9c179e\"],[0.4444444444444444,\"#bd3786\"],[0.5555555555555556,\"#d8576b\"],[0.6666666666666666,\"#ed7953\"],[0.7777777777777778,\"#fb9f3a\"],[0.8888888888888888,\"#fdca26\"],[1.0,\"#f0f921\"]],\"type\":\"surface\"}],\"table\":[{\"cells\":{\"fill\":{\"color\":\"#EBF0F8\"},\"line\":{\"color\":\"white\"}},\"header\":{\"fill\":{\"color\":\"#C8D4E3\"},\"line\":{\"color\":\"white\"}},\"type\":\"table\"}]},\"layout\":{\"annotationdefaults\":{\"arrowcolor\":\"#2a3f5f\",\"arrowhead\":0,\"arrowwidth\":1},\"autotypenumbers\":\"strict\",\"coloraxis\":{\"colorbar\":{\"outlinewidth\":0,\"ticks\":\"\"}},\"colorscale\":{\"diverging\":[[0,\"#8e0152\"],[0.1,\"#c51b7d\"],[0.2,\"#de77ae\"],[0.3,\"#f1b6da\"],[0.4,\"#fde0ef\"],[0.5,\"#f7f7f7\"],[0.6,\"#e6f5d0\"],[0.7,\"#b8e186\"],[0.8,\"#7fbc41\"],[0.9,\"#4d9221\"],[1,\"#276419\"]],\"sequential\":[[0.0,\"#0d0887\"],[0.1111111111111111,\"#46039f\"],[0.2222222222222222,\"#7201a8\"],[0.3333333333333333,\"#9c179e\"],[0.4444444444444444,\"#bd3786\"],[0.5555555555555556,\"#d8576b\"],[0.6666666666666666,\"#ed7953\"],[0.7777777777777778,\"#fb9f3a\"],[0.8888888888888888,\"#fdca26\"],[1.0,\"#f0f921\"]],\"sequentialminus\":[[0.0,\"#0d0887\"],[0.1111111111111111,\"#46039f\"],[0.2222222222222222,\"#7201a8\"],[0.3333333333333333,\"#9c179e\"],[0.4444444444444444,\"#bd3786\"],[0.5555555555555556,\"#d8576b\"],[0.6666666666666666,\"#ed7953\"],[0.7777777777777778,\"#fb9f3a\"],[0.8888888888888888,\"#fdca26\"],[1.0,\"#f0f921\"]]},\"colorway\":[\"#636efa\",\"#EF553B\",\"#00cc96\",\"#ab63fa\",\"#FFA15A\",\"#19d3f3\",\"#FF6692\",\"#B6E880\",\"#FF97FF\",\"#FECB52\"],\"font\":{\"color\":\"#2a3f5f\"},\"geo\":{\"bgcolor\":\"white\",\"lakecolor\":\"white\",\"landcolor\":\"#E5ECF6\",\"showlakes\":true,\"showland\":true,\"subunitcolor\":\"white\"},\"hoverlabel\":{\"align\":\"left\"},\"hovermode\":\"closest\",\"mapbox\":{\"style\":\"light\"},\"paper_bgcolor\":\"white\",\"plot_bgcolor\":\"#E5ECF6\",\"polar\":{\"angularaxis\":{\"gridcolor\":\"white\",\"linecolor\":\"white\",\"ticks\":\"\"},\"bgcolor\":\"#E5ECF6\",\"radialaxis\":{\"gridcolor\":\"white\",\"linecolor\":\"white\",\"ticks\":\"\"}},\"scene\":{\"xaxis\":{\"backgroundcolor\":\"#E5ECF6\",\"gridcolor\":\"white\",\"gridwidth\":2,\"linecolor\":\"white\",\"showbackground\":true,\"ticks\":\"\",\"zerolinecolor\":\"white\"},\"yaxis\":{\"backgroundcolor\":\"#E5ECF6\",\"gridcolor\":\"white\",\"gridwidth\":2,\"linecolor\":\"white\",\"showbackground\":true,\"ticks\":\"\",\"zerolinecolor\":\"white\"},\"zaxis\":{\"backgroundcolor\":\"#E5ECF6\",\"gridcolor\":\"white\",\"gridwidth\":2,\"linecolor\":\"white\",\"showbackground\":true,\"ticks\":\"\",\"zerolinecolor\":\"white\"}},\"shapedefaults\":{\"line\":{\"color\":\"#2a3f5f\"}},\"ternary\":{\"aaxis\":{\"gridcolor\":\"white\",\"linecolor\":\"white\",\"ticks\":\"\"},\"baxis\":{\"gridcolor\":\"white\",\"linecolor\":\"white\",\"ticks\":\"\"},\"bgcolor\":\"#E5ECF6\",\"caxis\":{\"gridcolor\":\"white\",\"linecolor\":\"white\",\"ticks\":\"\"}},\"title\":{\"x\":0.05},\"xaxis\":{\"automargin\":true,\"gridcolor\":\"white\",\"linecolor\":\"white\",\"ticks\":\"\",\"title\":{\"standoff\":15},\"zerolinecolor\":\"white\",\"zerolinewidth\":2},\"yaxis\":{\"automargin\":true,\"gridcolor\":\"white\",\"linecolor\":\"white\",\"ticks\":\"\",\"title\":{\"standoff\":15},\"zerolinecolor\":\"white\",\"zerolinewidth\":2}}},\"xaxis\":{\"rangeslider\":{\"visible\":false}}},                        {\"responsive\": true}                    ).then(function(){\n",
       "                            \n",
       "var gd = document.getElementById('07439522-31bd-49d8-92e2-1cdc2da5b99a');\n",
       "var x = new MutationObserver(function (mutations, observer) {{\n",
       "        var display = window.getComputedStyle(gd).display;\n",
       "        if (!display || display === 'none') {{\n",
       "            console.log([gd, 'removed!']);\n",
       "            Plotly.purge(gd);\n",
       "            observer.disconnect();\n",
       "        }}\n",
       "}});\n",
       "\n",
       "// Listen for the removal of the full notebook cells\n",
       "var notebookContainer = gd.closest('#notebook-container');\n",
       "if (notebookContainer) {{\n",
       "    x.observe(notebookContainer, {childList: true});\n",
       "}}\n",
       "\n",
       "// Listen for the clearing of the current output cell\n",
       "var outputEl = gd.closest('.output');\n",
       "if (outputEl) {{\n",
       "    x.observe(outputEl, {childList: true});\n",
       "}}\n",
       "\n",
       "                        })                };                });            </script>        </div>"
      ]
     },
     "metadata": {},
     "output_type": "display_data"
    }
   ],
   "source": [
    "fig = go.Figure(data=[go.Candlestick(x=DataSet['Date'],\n",
    "                open=DataSet['Open'], high=DataSet['High'],\n",
    "                low=DataSet['Low'], close=DataSet['Close'])\n",
    "                     ])\n",
    "\n",
    "fig.update_layout(xaxis_rangeslider_visible=False)  \n",
    "fig.show()\n",
    "\n"
   ]
  },
  {
   "cell_type": "markdown",
   "metadata": {},
   "source": [
    "## Rede Neural Recorrente (RNN)\n",
    "\n",
    "Antes de avançar para LSTM, primeiro vamos introduzir o conceito de Redes Recorrentes. Elas são redes utilizadas para reconhecer padrões quando os resultados do passado influenciam no resultado atual. Um exemplo disso são as séries temporais, em que a ordem dos dados é muito importante. <br>\n",
    "\n",
    "Nesta arquitetura, um neurônio tem como entrada seu estado anterior, além das entradas da camada anterior. A imagem abaixo ilustra esta nova modelagem.\n",
    "<br><img src=\"Arquitetura RNN.png\"><br>\n",
    "\n",
    "Observe que H representa o estado. Assim, no estado H_1, o neurônio recebe como parâmetro de entrada X_1 e, além disso, seu estado anterior H_0. O principal problema desta arquitetura é que os estados mais antigos são esquecidos muito rapidamente. Ou seja, para sequências em que precisamos lembrar além de um passado imediato, as redes RNNs são limitadas.\n"
   ]
  },
  {
   "cell_type": "markdown",
   "metadata": {},
   "source": [
    "### Rede LSTM\n",
    "Uma rede LSTM tem origem em uma RNN (Rede Neural Recorrente). Mas ela resolve o problema de memória mudando sua arquitetura.\n",
    "\n",
    "<br><img src=\"Arquitetura LSTM.png\"><br>\n",
    "\n",
    "Nesta nova arquitetura, cada neurônio possui 3 gates, cada um com uma função diferente. São eles:\n",
    "* Input Gate\n",
    "* Output Gate\n",
    "* Forget Gate\n",
    "\n",
    "Agora, um neurônio LSTM recebe entradas de seu estado anterior, assim como ocorria na Rede Recorrente:\n",
    "<br><img src=\"Desdobramento LSTM.png\"><br>\n"
   ]
  },
  {
   "cell_type": "markdown",
   "metadata": {},
   "source": [
    "### Agora vamos ler o arquivo do período desejável "
   ]
  },
  {
   "cell_type": "code",
   "execution_count": 32,
   "metadata": {},
   "outputs": [
    {
     "data": {
      "text/html": [
       "<div>\n",
       "<style scoped>\n",
       "    .dataframe tbody tr th:only-of-type {\n",
       "        vertical-align: middle;\n",
       "    }\n",
       "\n",
       "    .dataframe tbody tr th {\n",
       "        vertical-align: top;\n",
       "    }\n",
       "\n",
       "    .dataframe thead th {\n",
       "        text-align: right;\n",
       "    }\n",
       "</style>\n",
       "<table border=\"1\" class=\"dataframe\">\n",
       "  <thead>\n",
       "    <tr style=\"text-align: right;\">\n",
       "      <th></th>\n",
       "      <th>Date</th>\n",
       "      <th>Open</th>\n",
       "      <th>High</th>\n",
       "      <th>Low</th>\n",
       "      <th>Close</th>\n",
       "      <th>Adj Close</th>\n",
       "      <th>Volume</th>\n",
       "    </tr>\n",
       "  </thead>\n",
       "  <tbody>\n",
       "    <tr>\n",
       "      <th>0</th>\n",
       "      <td>2020-01-02</td>\n",
       "      <td>115652.0</td>\n",
       "      <td>118573.0</td>\n",
       "      <td>115649.0</td>\n",
       "      <td>118573.0</td>\n",
       "      <td>118573.0</td>\n",
       "      <td>5162700.0</td>\n",
       "    </tr>\n",
       "    <tr>\n",
       "      <th>1</th>\n",
       "      <td>2020-01-03</td>\n",
       "      <td>118564.0</td>\n",
       "      <td>118792.0</td>\n",
       "      <td>117341.0</td>\n",
       "      <td>117707.0</td>\n",
       "      <td>117707.0</td>\n",
       "      <td>6834500.0</td>\n",
       "    </tr>\n",
       "    <tr>\n",
       "      <th>2</th>\n",
       "      <td>2020-01-06</td>\n",
       "      <td>117707.0</td>\n",
       "      <td>117707.0</td>\n",
       "      <td>116269.0</td>\n",
       "      <td>116878.0</td>\n",
       "      <td>116878.0</td>\n",
       "      <td>6570000.0</td>\n",
       "    </tr>\n",
       "    <tr>\n",
       "      <th>3</th>\n",
       "      <td>2020-01-07</td>\n",
       "      <td>116872.0</td>\n",
       "      <td>117076.0</td>\n",
       "      <td>115965.0</td>\n",
       "      <td>116662.0</td>\n",
       "      <td>116662.0</td>\n",
       "      <td>4854100.0</td>\n",
       "    </tr>\n",
       "    <tr>\n",
       "      <th>4</th>\n",
       "      <td>2020-01-08</td>\n",
       "      <td>116667.0</td>\n",
       "      <td>117335.0</td>\n",
       "      <td>115693.0</td>\n",
       "      <td>116247.0</td>\n",
       "      <td>116247.0</td>\n",
       "      <td>5910500.0</td>\n",
       "    </tr>\n",
       "  </tbody>\n",
       "</table>\n",
       "</div>"
      ],
      "text/plain": [
       "         Date      Open      High       Low     Close  Adj Close     Volume\n",
       "0  2020-01-02  115652.0  118573.0  115649.0  118573.0   118573.0  5162700.0\n",
       "1  2020-01-03  118564.0  118792.0  117341.0  117707.0   117707.0  6834500.0\n",
       "2  2020-01-06  117707.0  117707.0  116269.0  116878.0   116878.0  6570000.0\n",
       "3  2020-01-07  116872.0  117076.0  115965.0  116662.0   116662.0  4854100.0\n",
       "4  2020-01-08  116667.0  117335.0  115693.0  116247.0   116247.0  5910500.0"
      ]
     },
     "execution_count": 32,
     "metadata": {},
     "output_type": "execute_result"
    }
   ],
   "source": [
    "DataSet=pd.read_csv('Futuros Mini Ibovespa - treinoF.csv')\n",
    "DataSet=DataSet.dropna()\n",
    "DataSet.head()"
   ]
  },
  {
   "cell_type": "code",
   "execution_count": 33,
   "metadata": {},
   "outputs": [
    {
     "data": {
      "text/html": [
       "<div>\n",
       "<style scoped>\n",
       "    .dataframe tbody tr th:only-of-type {\n",
       "        vertical-align: middle;\n",
       "    }\n",
       "\n",
       "    .dataframe tbody tr th {\n",
       "        vertical-align: top;\n",
       "    }\n",
       "\n",
       "    .dataframe thead th {\n",
       "        text-align: right;\n",
       "    }\n",
       "</style>\n",
       "<table border=\"1\" class=\"dataframe\">\n",
       "  <thead>\n",
       "    <tr style=\"text-align: right;\">\n",
       "      <th></th>\n",
       "      <th>Open</th>\n",
       "      <th>High</th>\n",
       "      <th>Low</th>\n",
       "      <th>Close</th>\n",
       "      <th>Adj Close</th>\n",
       "      <th>Volume</th>\n",
       "    </tr>\n",
       "  </thead>\n",
       "  <tbody>\n",
       "    <tr>\n",
       "      <th>count</th>\n",
       "      <td>276.000000</td>\n",
       "      <td>276.000000</td>\n",
       "      <td>276.000000</td>\n",
       "      <td>276.000000</td>\n",
       "      <td>276.000000</td>\n",
       "      <td>2.760000e+02</td>\n",
       "    </tr>\n",
       "    <tr>\n",
       "      <th>mean</th>\n",
       "      <td>100820.184783</td>\n",
       "      <td>102144.681159</td>\n",
       "      <td>99537.778986</td>\n",
       "      <td>100862.963768</td>\n",
       "      <td>100862.963768</td>\n",
       "      <td>9.504380e+06</td>\n",
       "    </tr>\n",
       "    <tr>\n",
       "      <th>std</th>\n",
       "      <td>14418.863949</td>\n",
       "      <td>14000.821321</td>\n",
       "      <td>14821.689030</td>\n",
       "      <td>14453.132774</td>\n",
       "      <td>14453.132774</td>\n",
       "      <td>2.646797e+06</td>\n",
       "    </tr>\n",
       "    <tr>\n",
       "      <th>min</th>\n",
       "      <td>63604.000000</td>\n",
       "      <td>67604.000000</td>\n",
       "      <td>61691.000000</td>\n",
       "      <td>63570.000000</td>\n",
       "      <td>63570.000000</td>\n",
       "      <td>0.000000e+00</td>\n",
       "    </tr>\n",
       "    <tr>\n",
       "      <th>25%</th>\n",
       "      <td>94548.500000</td>\n",
       "      <td>95991.750000</td>\n",
       "      <td>93552.000000</td>\n",
       "      <td>94546.500000</td>\n",
       "      <td>94546.500000</td>\n",
       "      <td>8.188700e+06</td>\n",
       "    </tr>\n",
       "    <tr>\n",
       "      <th>50%</th>\n",
       "      <td>101249.500000</td>\n",
       "      <td>102180.000000</td>\n",
       "      <td>100027.500000</td>\n",
       "      <td>101251.000000</td>\n",
       "      <td>101251.000000</td>\n",
       "      <td>9.411850e+06</td>\n",
       "    </tr>\n",
       "    <tr>\n",
       "      <th>75%</th>\n",
       "      <td>115009.750000</td>\n",
       "      <td>115597.750000</td>\n",
       "      <td>113994.750000</td>\n",
       "      <td>114980.750000</td>\n",
       "      <td>114980.750000</td>\n",
       "      <td>1.098680e+07</td>\n",
       "    </tr>\n",
       "    <tr>\n",
       "      <th>max</th>\n",
       "      <td>125075.000000</td>\n",
       "      <td>125324.000000</td>\n",
       "      <td>123227.000000</td>\n",
       "      <td>125077.000000</td>\n",
       "      <td>125077.000000</td>\n",
       "      <td>1.930000e+07</td>\n",
       "    </tr>\n",
       "  </tbody>\n",
       "</table>\n",
       "</div>"
      ],
      "text/plain": [
       "                Open           High            Low          Close  \\\n",
       "count     276.000000     276.000000     276.000000     276.000000   \n",
       "mean   100820.184783  102144.681159   99537.778986  100862.963768   \n",
       "std     14418.863949   14000.821321   14821.689030   14453.132774   \n",
       "min     63604.000000   67604.000000   61691.000000   63570.000000   \n",
       "25%     94548.500000   95991.750000   93552.000000   94546.500000   \n",
       "50%    101249.500000  102180.000000  100027.500000  101251.000000   \n",
       "75%    115009.750000  115597.750000  113994.750000  114980.750000   \n",
       "max    125075.000000  125324.000000  123227.000000  125077.000000   \n",
       "\n",
       "           Adj Close        Volume  \n",
       "count     276.000000  2.760000e+02  \n",
       "mean   100862.963768  9.504380e+06  \n",
       "std     14453.132774  2.646797e+06  \n",
       "min     63570.000000  0.000000e+00  \n",
       "25%     94546.500000  8.188700e+06  \n",
       "50%    101251.000000  9.411850e+06  \n",
       "75%    114980.750000  1.098680e+07  \n",
       "max    125077.000000  1.930000e+07  "
      ]
     },
     "execution_count": 33,
     "metadata": {},
     "output_type": "execute_result"
    }
   ],
   "source": [
    "DataSet.describe()"
   ]
  },
  {
   "cell_type": "markdown",
   "metadata": {},
   "source": [
    "### Inicialmente iremos criar uma RNN baseada apenas no Valor de Abertura"
   ]
  },
  {
   "cell_type": "code",
   "execution_count": 34,
   "metadata": {},
   "outputs": [
    {
     "data": {
      "image/png": "[encoded data removed]",
      "text/plain": [
       "<Figure size 1152x576 with 1 Axes>"
      ]
     },
     "metadata": {
      "needs_background": "light"
     },
     "output_type": "display_data"
    }
   ],
   "source": [
    "#setting index as date\n",
    "DataSet['Date'] = pd.to_datetime (DataSet.Date)\n",
    "DataSet.index = DataSet ['Date']\n",
    "\n",
    "#trama\n",
    "plt.figure (figsize = (16,8))\n",
    "plt.plot (DataSet ['Close'], label = 'Fechar histórico de preços')\n",
    "\n",
    "plt.plot (DataSet ['Low'], label = 'Baixa')\n",
    "plt.plot (DataSet ['High'], label = 'Alta')\n",
    "\n",
    "\n",
    "\n",
    "\n",
    "#plt.scatter(DataSet['Date'],DataSet['Open'],)\n",
    "#plt.show()\n",
    "\n",
    "base_treinamento = DataSet.iloc[:, 1:5].values\n",
    "\n",
    "#DataSet.drop(['Date','Close','High','Low', 'Volume'],axis=1,inplace=True)"
   ]
  },
  {
   "cell_type": "markdown",
   "metadata": {},
   "source": [
    "### Normalizar os dados do Mini Índice"
   ]
  },
  {
   "cell_type": "code",
   "execution_count": 35,
   "metadata": {},
   "outputs": [
    {
     "data": {
      "text/plain": [
       "array([[ 0.69341641],\n",
       "       [ 0.78816027],\n",
       "       [ 0.7602772 ],\n",
       "       [ 0.73310992],\n",
       "       [ 0.72644011],\n",
       "       [ 0.71280767],\n",
       "       [ 0.70304697],\n",
       "       [ 0.68856859],\n",
       "       [ 0.74784858],\n",
       "       [ 0.75783703],\n",
       "       [ 0.71824112],\n",
       "       [ 0.72783914],\n",
       "       [ 0.7853622 ],\n",
       "       [ 0.79782336],\n",
       "       [ 0.73841324],\n",
       "       [ 0.7825316 ],\n",
       "       [ 0.81952465],\n",
       "       [ 0.78110003],\n",
       "       [ 0.65534968],\n",
       "       [ 0.72081144],\n",
       "       [ 0.68440403],\n",
       "       [ 0.68905663],\n",
       "       [ 0.63189146],\n",
       "       [ 0.66019749],\n",
       "       [ 0.69052073],\n",
       "       [ 0.7058125 ],\n",
       "       [ 0.67838493],\n",
       "       [ 0.63221682],\n",
       "       [ 0.59327162],\n",
       "       [ 0.68427389],\n",
       "       [ 0.72621236],\n",
       "       [ 0.6937743 ],\n",
       "       [ 0.65206357],\n",
       "       [ 0.68225667],\n",
       "       [ 0.67161751],\n",
       "       [ 0.7215923 ],\n",
       "       [ 0.65870085],\n",
       "       [ 0.36997934],\n",
       "       [ 0.28125458],\n",
       "       [ 0.32277009],\n",
       "       [ 0.39987962],\n",
       "       [ 0.36441574],\n",
       "       [ 0.41897805],\n",
       "       [ 0.25675522],\n",
       "       [ 0.11851117],\n",
       "       [-0.26902116],\n",
       "       [-0.06954499],\n",
       "       [-0.30051569],\n",
       "       [-0.70662589],\n",
       "       [-0.38309121],\n",
       "       [-0.75357486],\n",
       "       [-0.64301866],\n",
       "       [-0.89331555],\n",
       "       [-0.84578094],\n",
       "       [-0.88732898],\n",
       "       [-1.        ],\n",
       "       [-0.80078411],\n",
       "       [-0.63065511],\n",
       "       [-0.54111695],\n",
       "       [-0.680272  ],\n",
       "       [-0.64129427],\n",
       "       [-0.69393698],\n",
       "       [-0.76037481],\n",
       "       [-0.71898944],\n",
       "       [-0.80634771],\n",
       "       [-0.65922142],\n",
       "       [-0.58578842],\n",
       "       [-0.51079371],\n",
       "       [-0.54196288],\n",
       "       [-0.50402629],\n",
       "       [-0.46944087],\n",
       "       [-0.50438418],\n",
       "       [-0.53757056],\n",
       "       [-0.49943876],\n",
       "       [-0.49995933],\n",
       "       [-0.44409559],\n",
       "       [-0.47737958],\n",
       "       [-0.61835662],\n",
       "       [-0.52371037],\n",
       "       [-0.42382587],\n",
       "       [-0.36343967],\n",
       "       [-0.45024483],\n",
       "       [-0.5027574 ],\n",
       "       [-0.4836915 ],\n",
       "       [-0.4967383 ],\n",
       "       [-0.52667111],\n",
       "       [-0.45798832],\n",
       "       [-0.49696605],\n",
       "       [-0.53561842],\n",
       "       [-0.53909974],\n",
       "       [-0.49872298],\n",
       "       [-0.54541166],\n",
       "       [-0.42760001],\n",
       "       [-0.44224106],\n",
       "       [-0.42359812],\n",
       "       [-0.36805974],\n",
       "       [-0.3950318 ],\n",
       "       [-0.28213304],\n",
       "       [-0.28864017],\n",
       "       [-0.20801679],\n",
       "       [-0.24038978],\n",
       "       [-0.22594394],\n",
       "       [-0.18602268],\n",
       "       [-0.10709115],\n",
       "       [-0.04380928],\n",
       "       [-0.0162841 ],\n",
       "       [ 0.00977697],\n",
       "       [ 0.10751411],\n",
       "       [ 0.07832962],\n",
       "       [ 0.01098079],\n",
       "       [-0.05073937],\n",
       "       [-0.06352589],\n",
       "       [-0.02630509],\n",
       "       [ 0.03928682],\n",
       "       [ 0.0585154 ],\n",
       "       [ 0.07263588],\n",
       "       [ 0.03268208],\n",
       "       [ 0.05317955],\n",
       "       [ 0.00138277],\n",
       "       [ 0.05334223],\n",
       "       [-0.01634917],\n",
       "       [ 0.04517577],\n",
       "       [ 0.02350702],\n",
       "       [ 0.06072782],\n",
       "       [ 0.06173643],\n",
       "       [ 0.07927315],\n",
       "       [ 0.14958273],\n",
       "       [ 0.11145093],\n",
       "       [ 0.17668494],\n",
       "       [ 0.15683818],\n",
       "       [ 0.18504661],\n",
       "       [ 0.14183924],\n",
       "       [ 0.19861398],\n",
       "       [ 0.24243952],\n",
       "       [ 0.2021929 ],\n",
       "       [ 0.27813115],\n",
       "       [ 0.32817101],\n",
       "       [ 0.32446194],\n",
       "       [ 0.32377869],\n",
       "       [ 0.25873989],\n",
       "       [ 0.26163557],\n",
       "       [ 0.32983033],\n",
       "       [ 0.31795481],\n",
       "       [ 0.36653056],\n",
       "       [ 0.34717184],\n",
       "       [ 0.27894454],\n",
       "       [ 0.27611394],\n",
       "       [ 0.22386166],\n",
       "       [ 0.27308812],\n",
       "       [ 0.31808495],\n",
       "       [ 0.27448716],\n",
       "       [ 0.29638366],\n",
       "       [ 0.25496576],\n",
       "       [ 0.25307869],\n",
       "       [ 0.19942737],\n",
       "       [ 0.22802622],\n",
       "       [ 0.17105627],\n",
       "       [ 0.25158205],\n",
       "       [ 0.21192107],\n",
       "       [ 0.23167022],\n",
       "       [ 0.23378504],\n",
       "       [ 0.25877243],\n",
       "       [ 0.25311122],\n",
       "       [ 0.20450294],\n",
       "       [ 0.20469815],\n",
       "       [ 0.25385954],\n",
       "       [ 0.1640611 ],\n",
       "       [ 0.25470547],\n",
       "       [ 0.2463438 ],\n",
       "       [ 0.20801679],\n",
       "       [ 0.22447984],\n",
       "       [ 0.18579493],\n",
       "       [ 0.22617169],\n",
       "       [ 0.14639423],\n",
       "       [ 0.1310374 ],\n",
       "       [ 0.19318052],\n",
       "       [ 0.19389631],\n",
       "       [ 0.17356152],\n",
       "       [ 0.18735664],\n",
       "       [ 0.1283044 ],\n",
       "       [ 0.08639846],\n",
       "       [ 0.09612663],\n",
       "       [ 0.04540352],\n",
       "       [ 0.08691903],\n",
       "       [ 0.08672382],\n",
       "       [ 0.01059036],\n",
       "       [-0.02451563],\n",
       "       [ 0.00860568],\n",
       "       [ 0.03694425],\n",
       "       [-0.01042768],\n",
       "       [ 0.05698622],\n",
       "       [ 0.04153178],\n",
       "       [ 0.03873371],\n",
       "       [ 0.1166241 ],\n",
       "       [ 0.10227587],\n",
       "       [ 0.13542971],\n",
       "       [ 0.16230418],\n",
       "       [ 0.1533894 ],\n",
       "       [ 0.12918287],\n",
       "       [ 0.14070049],\n",
       "       [ 0.20176994],\n",
       "       [ 0.20216037],\n",
       "       [ 0.24657155],\n",
       "       [ 0.22516309],\n",
       "       [ 0.21725692],\n",
       "       [ 0.17108881],\n",
       "       [ 0.03346293],\n",
       "       [ 0.07286363],\n",
       "       [-0.012087  ],\n",
       "       [ 0.05376519],\n",
       "       [ 0.11496478],\n",
       "       [ 0.20860243],\n",
       "       [ 0.21520717],\n",
       "       [ 0.29856355],\n",
       "       [ 0.34902637],\n",
       "       [ 0.3406647 ],\n",
       "       [ 0.26580013],\n",
       "       [ 0.33802931],\n",
       "       [ 0.39337248],\n",
       "       [ 0.41992159],\n",
       "       [ 0.38318882],\n",
       "       [ 0.38100893],\n",
       "       [ 0.4242163 ],\n",
       "       [ 0.50256218],\n",
       "       [ 0.51385206],\n",
       "       [ 0.51697548],\n",
       "       [ 0.52898115],\n",
       "       [ 0.47363798],\n",
       "       [ 0.55513982],\n",
       "       [ 0.57049666],\n",
       "       [ 0.58416164],\n",
       "       [ 0.6315661 ],\n",
       "       [ 0.62632786],\n",
       "       [ 0.63312782],\n",
       "       [ 0.60719689],\n",
       "       [ 0.67636772],\n",
       "       [ 0.67666054],\n",
       "       [ 0.65961185],\n",
       "       [ 0.70958663],\n",
       "       [ 0.7653853 ],\n",
       "       [ 0.78266174],\n",
       "       [ 0.7704934 ],\n",
       "       [ 0.69904508],\n",
       "       [ 0.7254315 ],\n",
       "       [ 0.76349823],\n",
       "       [ 0.80657546],\n",
       "       [ 0.81568545],\n",
       "       [ 0.80312668],\n",
       "       [ 0.79697744],\n",
       "       [ 0.81461177],\n",
       "       [ 0.805697  ],\n",
       "       [ 0.91254413],\n",
       "       [ 1.        ],\n",
       "       [ 0.94078509],\n",
       "       [ 0.96489402],\n",
       "       [ 0.89822843],\n",
       "       [ 0.94784533],\n",
       "       [ 0.84630151],\n",
       "       [ 0.87555107],\n",
       "       [ 0.85586699],\n",
       "       [ 0.82277822],\n",
       "       [ 0.7801565 ],\n",
       "       [ 0.74967058],\n",
       "       [ 0.71980283],\n",
       "       [ 0.70089961],\n",
       "       [ 0.79844154],\n",
       "       [ 0.67522897],\n",
       "       [ 0.75419303],\n",
       "       [ 0.77745604],\n",
       "       [ 0.82603179],\n",
       "       [ 0.81083763],\n",
       "       [ 0.84265751],\n",
       "       [ 0.82499065],\n",
       "       [ 0.81770266],\n",
       "       [ 0.78412585],\n",
       "       [ 0.81210652]])"
      ]
     },
     "execution_count": 35,
     "metadata": {},
     "output_type": "execute_result"
    }
   ],
   "source": [
    "from sklearn.preprocessing import MinMaxScaler\n",
    "\n",
    "scaler=MinMaxScaler(feature_range=(0,1))\n",
    "DataScaled=scaler.fit_transform(base_treinamento)\n",
    "\n",
    "scaler_previsao = MinMaxScaler(feature_range=(-1,1))\n",
    "scaler_previsao.fit_transform(base_treinamento[:,0:1])\n",
    "\n"
   ]
  },
  {
   "cell_type": "code",
   "execution_count": 36,
   "metadata": {},
   "outputs": [
    {
     "name": "stdout",
     "output_type": "stream",
     "text": [
      "[[0.8467082  0.88303881 0.87685257 0.89425594]\n",
      " [0.89408014 0.88683299 0.90434867 0.88017624]\n",
      " [0.8801386  0.86803534 0.88692798 0.8666981 ]\n",
      " ...\n",
      " [0.90885133 0.90322245 0.91457033 0.891931  ]\n",
      " [0.89206292 0.91266459 0.92220814 0.90501894]\n",
      " [0.90605326 0.90365558 0.91770671 0.9030842 ]]\n"
     ]
    }
   ],
   "source": [
    "print(DataScaled)"
   ]
  },
  {
   "cell_type": "markdown",
   "metadata": {},
   "source": [
    "### Definição dos previsores"
   ]
  },
  {
   "cell_type": "code",
   "execution_count": 37,
   "metadata": {},
   "outputs": [
    {
     "name": "stdout",
     "output_type": "stream",
     "text": [
      "276\n"
     ]
    }
   ],
   "source": [
    "previsores = []\n",
    "preco_real = []\n",
    "NRecursao = 20\n",
    "NPrevisores=4\n",
    "MPrevisoes=6\n",
    "DataSetLen = len(DataScaled)\n",
    "print(DataSetLen)"
   ]
  },
  {
   "cell_type": "code",
   "execution_count": 38,
   "metadata": {},
   "outputs": [],
   "source": [
    "\n",
    "for i in range(NRecursao, DataSetLen):\n",
    "    previsores.append(DataScaled[i-NRecursao:i,0])\n",
    "    preco_real.append(DataScaled[i,0])\n",
    "\n",
    "previsores, preco_real = np.array(previsores), np.array(preco_real)"
   ]
  },
  {
   "cell_type": "markdown",
   "metadata": {},
   "source": [
    "### Estrutura da Rede Neural"
   ]
  },
  {
   "cell_type": "code",
   "execution_count": 39,
   "metadata": {},
   "outputs": [],
   "source": [
    "# Camada de entrada\n",
    "regressor = Sequential()\n",
    "regressor.add(LSTM(units = 100, return_sequences = True, input_shape = (previsores.shape[1], NPrevisores)))\n",
    "regressor.add(Dropout(0.3))\n",
    "\n",
    "# Cada Oculta 1\n",
    "regressor.add(LSTM(units = 150, return_sequences = True))\n",
    "regressor.add(Dropout(0.3))\n",
    "\n",
    "# Cada Oculta 2\n",
    "regressor.add(LSTM(units = 200, return_sequences = True))\n",
    "regressor.add(Dropout(0.3))\n",
    "\n",
    "# Cada Oculta 3\n",
    "regressor.add(LSTM(units = 100))\n",
    "regressor.add(Dropout(0.3))\n",
    "\n",
    "# Camada de Saída\n",
    "regressor.add(Dense(units = MPrevisoes, activation = 'sigmoid'))\n"
   ]
  },
  {
   "cell_type": "markdown",
   "metadata": {},
   "source": [
    "### Construindo a Rede"
   ]
  },
  {
   "cell_type": "code",
   "execution_count": null,
   "metadata": {},
   "outputs": [],
   "source": [
    "regressor.compile(optimizer = 'rmsprop', loss = 'mean_squared_error',\n",
    "                  metrics = ['mean_absolute_error'])\n",
    "\n",
    "#Funções de Callback\n",
    "es = EarlyStopping(monitor = 'loss', min_delta = 1e-10, patience = 10, verbose = 1)\n",
    "rlr = ReduceLROnPlateau(monitor = 'loss', factor = 0.2, patience = 8, verbose = 1)\n",
    "mcp = ModelCheckpoint(filepath = 'pesos.h5', monitor = 'loss', \n",
    "                      save_best_only = True, verbose = 1)\n",
    "regressor.fit(previsores, preco_real, epochs = 1000, batch_size = 64,\n",
    "              callbacks = [es, rlr, mcp])"
   ]
  },
  {
   "cell_type": "markdown",
   "metadata": {},
   "source": [
    "### Conjunto de dados para o Teste"
   ]
  },
  {
   "cell_type": "code",
   "execution_count": 43,
   "metadata": {},
   "outputs": [
    {
     "data": {
      "text/html": [
       "<div>\n",
       "<style scoped>\n",
       "    .dataframe tbody tr th:only-of-type {\n",
       "        vertical-align: middle;\n",
       "    }\n",
       "\n",
       "    .dataframe tbody tr th {\n",
       "        vertical-align: top;\n",
       "    }\n",
       "\n",
       "    .dataframe thead th {\n",
       "        text-align: right;\n",
       "    }\n",
       "</style>\n",
       "<table border=\"1\" class=\"dataframe\">\n",
       "  <thead>\n",
       "    <tr style=\"text-align: right;\">\n",
       "      <th></th>\n",
       "      <th>Date</th>\n",
       "      <th>Open</th>\n",
       "      <th>High</th>\n",
       "      <th>Low</th>\n",
       "      <th>Close</th>\n",
       "      <th>Adj Close</th>\n",
       "      <th>Volume</th>\n",
       "    </tr>\n",
       "  </thead>\n",
       "  <tbody>\n",
       "    <tr>\n",
       "      <th>0</th>\n",
       "      <td>2021-04-01</td>\n",
       "      <td>116644.0</td>\n",
       "      <td>117088.0</td>\n",
       "      <td>114991.0</td>\n",
       "      <td>115253.0</td>\n",
       "      <td>115253.0</td>\n",
       "      <td>8009200</td>\n",
       "    </tr>\n",
       "    <tr>\n",
       "      <th>1</th>\n",
       "      <td>2021-04-05</td>\n",
       "      <td>115262.0</td>\n",
       "      <td>117668.0</td>\n",
       "      <td>115262.0</td>\n",
       "      <td>117518.0</td>\n",
       "      <td>117518.0</td>\n",
       "      <td>7245100</td>\n",
       "    </tr>\n",
       "    <tr>\n",
       "      <th>2</th>\n",
       "      <td>2021-04-06</td>\n",
       "      <td>117519.0</td>\n",
       "      <td>118213.0</td>\n",
       "      <td>117176.0</td>\n",
       "      <td>117499.0</td>\n",
       "      <td>117499.0</td>\n",
       "      <td>6800800</td>\n",
       "    </tr>\n",
       "    <tr>\n",
       "      <th>3</th>\n",
       "      <td>2021-04-07</td>\n",
       "      <td>117499.0</td>\n",
       "      <td>118303.0</td>\n",
       "      <td>116748.0</td>\n",
       "      <td>117624.0</td>\n",
       "      <td>117624.0</td>\n",
       "      <td>0</td>\n",
       "    </tr>\n",
       "    <tr>\n",
       "      <th>4</th>\n",
       "      <td>2021-04-08</td>\n",
       "      <td>117624.0</td>\n",
       "      <td>118850.0</td>\n",
       "      <td>117486.0</td>\n",
       "      <td>118313.0</td>\n",
       "      <td>118313.0</td>\n",
       "      <td>8778200</td>\n",
       "    </tr>\n",
       "  </tbody>\n",
       "</table>\n",
       "</div>"
      ],
      "text/plain": [
       "         Date      Open      High       Low     Close  Adj Close   Volume\n",
       "0  2021-04-01  116644.0  117088.0  114991.0  115253.0   115253.0  8009200\n",
       "1  2021-04-05  115262.0  117668.0  115262.0  117518.0   117518.0  7245100\n",
       "2  2021-04-06  117519.0  118213.0  117176.0  117499.0   117499.0  6800800\n",
       "3  2021-04-07  117499.0  118303.0  116748.0  117624.0   117624.0        0\n",
       "4  2021-04-08  117624.0  118850.0  117486.0  118313.0   118313.0  8778200"
      ]
     },
     "execution_count": 43,
     "metadata": {},
     "output_type": "execute_result"
    }
   ],
   "source": [
    "DataSet_teste=pd.read_csv('FuturosMiniBovespaMaio.csv')\n",
    "DataSet_teste=DataSet_teste.dropna()\n",
    "DataSet_teste.head()"
   ]
  },
  {
   "cell_type": "code",
   "execution_count": 44,
   "metadata": {},
   "outputs": [],
   "source": [
    "# Preparação dos dados de teste no formato para a RNN\n",
    "\n",
    "frames = [DataSet, DataSet_teste]\n",
    "base_completa = pd.concat(frames)\n",
    "\n",
    "base_completa= base_completa.drop(['Date','Adj Close','Volume'], axis = 1)\n"
   ]
  },
  {
   "cell_type": "code",
   "execution_count": 45,
   "metadata": {},
   "outputs": [
    {
     "data": {
      "text/plain": [
       "(47, 4)"
      ]
     },
     "execution_count": 45,
     "metadata": {},
     "output_type": "execute_result"
    }
   ],
   "source": [
    "entradas = base_completa[len(base_completa) - len(DataSet_teste) - NRecursao:].values\n",
    "entradas = scaler.transform(entradas)\n",
    "\n",
    "entradas.shape"
   ]
  },
  {
   "cell_type": "code",
   "execution_count": 46,
   "metadata": {},
   "outputs": [],
   "source": [
    "preco_real_teste = DataSet_teste.iloc[:, 5:6].values"
   ]
  },
  {
   "cell_type": "code",
   "execution_count": 47,
   "metadata": {},
   "outputs": [
    {
     "data": {
      "text/plain": [
       "(47, 4)"
      ]
     },
     "execution_count": 47,
     "metadata": {},
     "output_type": "execute_result"
    }
   ],
   "source": [
    "entradas = base_completa[len(base_completa) - len(DataSet_teste) - NRecursao:].values\n",
    "entradas = scaler.transform(entradas)\n",
    "\n",
    "entradas.shape"
   ]
  },
  {
   "cell_type": "code",
   "execution_count": 48,
   "metadata": {},
   "outputs": [
    {
     "data": {
      "text/plain": [
       "(27, 20, 4)"
      ]
     },
     "execution_count": 48,
     "metadata": {},
     "output_type": "execute_result"
    }
   ],
   "source": [
    "DataSetTestLen = len(DataSet_teste)\n",
    "\n",
    "X_teste = []\n",
    "for i in range(NRecursao, DataSetTestLen+NRecursao):\n",
    "    X_teste.append(entradas[i-NRecursao:i, 0:NPrevisores])\n",
    "    \n",
    "X_teste = np.array(X_teste)\n",
    "X_teste.shape"
   ]
  },
  {
   "cell_type": "code",
   "execution_count": 49,
   "metadata": {},
   "outputs": [
    {
     "name": "stdout",
     "output_type": "stream",
     "text": [
      "109933.87\n",
      "119566.88888888889\n"
     ]
    }
   ],
   "source": [
    "previsoes = regressor.predict(X_teste)\n",
    "\n",
    "previsoes = scaler_previsao.inverse_transform(previsoes)\n",
    "\n",
    "print(previsoes.mean())\n",
    "print(preco_real_teste.mean())"
   ]
  },
  {
   "cell_type": "code",
   "execution_count": 50,
   "metadata": {},
   "outputs": [
    {
     "data": {
      "image/png": "[encoded data removed]",
      "text/plain": [
       "<Figure size 1152x576 with 1 Axes>"
      ]
     },
     "metadata": {
      "needs_background": "light"
     },
     "output_type": "display_data"
    }
   ],
   "source": [
    "plt.figure (figsize = (16,8))\n",
    "\n",
    "plt.plot(preco_real_teste, color = 'red', label = 'Preço real')\n",
    "plt.plot(previsoes[:,[0]], color ='green', label = 'Previsões')\n",
    "#plt.plot(RNN, color = 'green', label = 'R[:,[0]]NN')\n",
    "\n",
    "\n",
    "plt.title('IBOBESPA')\n",
    "#plt.xlabel('Tempo')\n",
    "plt.ylabel('Valor')\n",
    "plt.legend()\n",
    "plt.show()"
   ]
  },
  {
   "cell_type": "code",
   "execution_count": null,
   "metadata": {},
   "outputs": [],
   "source": []
  }
 ],
 "metadata": {
  "kernelspec": {
   "display_name": "Python 3",
   "language": "python",
   "name": "python3"
  },
  "language_info": {
   "codemirror_mode": {
    "name": "ipython",
    "version": 3
   },
   "file_extension": ".py",
   "mimetype": "text/x-python",
   "name": "python",
   "nbconvert_exporter": "python",
   "pygments_lexer": "ipython3",
   "version": "3.8.8"
  }
 },
 "nbformat": 4,
 "nbformat_minor": 2
}
